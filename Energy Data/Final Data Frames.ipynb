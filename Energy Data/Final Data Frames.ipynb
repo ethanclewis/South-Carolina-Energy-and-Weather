{
 "cells": [
  {
   "cell_type": "markdown",
   "id": "7e0f1492",
   "metadata": {},
   "source": [
    "# Abstract"
   ]
  },
  {
   "cell_type": "markdown",
   "id": "e9708c23",
   "metadata": {},
   "source": [
    "Combine final data frames from (1) and (2). \n",
    "\n",
    "Create subsets to represent daily energy generation and demand by South Carolina balancing authority, as well as the entire state. "
   ]
  },
  {
   "cell_type": "code",
   "execution_count": 1,
   "id": "a804859e",
   "metadata": {},
   "outputs": [],
   "source": [
    "import pandas as pd "
   ]
  },
  {
   "cell_type": "code",
   "execution_count": 2,
   "id": "761d4a00",
   "metadata": {},
   "outputs": [],
   "source": [
    "%store -r energy1\n",
    "%store -r energy2"
   ]
  },
  {
   "cell_type": "markdown",
   "id": "863e36e8",
   "metadata": {},
   "source": [
    "# Combining Data Frames"
   ]
  },
  {
   "cell_type": "code",
   "execution_count": 3,
   "id": "ccd32df7",
   "metadata": {},
   "outputs": [],
   "source": [
    "energy_by_BA = pd.concat([energy1, energy2], axis = 0)"
   ]
  },
  {
   "cell_type": "markdown",
   "id": "345372ab",
   "metadata": {},
   "source": [
    "### Sorting Appearance"
   ]
  },
  {
   "cell_type": "code",
   "execution_count": 6,
   "id": "5ab276df",
   "metadata": {},
   "outputs": [],
   "source": [
    "energy_by_BA['Date'] = pd.to_datetime(energy_by_BA['Date'])\n",
    "energy_by_BA = energy_by_BA.sort_values(by=['Date', 'Balancing Authority', 'Measurement Code'])\n",
    "energy_by_BA = energy_by_BA.reset_index(drop=True)"
   ]
  },
  {
   "cell_type": "code",
   "execution_count": 7,
   "id": "68cee584",
   "metadata": {},
   "outputs": [
    {
     "data": {
      "text/html": [
       "<div>\n",
       "<style scoped>\n",
       "    .dataframe tbody tr th:only-of-type {\n",
       "        vertical-align: middle;\n",
       "    }\n",
       "\n",
       "    .dataframe tbody tr th {\n",
       "        vertical-align: top;\n",
       "    }\n",
       "\n",
       "    .dataframe thead th {\n",
       "        text-align: right;\n",
       "    }\n",
       "</style>\n",
       "<table border=\"1\" class=\"dataframe\">\n",
       "  <thead>\n",
       "    <tr style=\"text-align: right;\">\n",
       "      <th></th>\n",
       "      <th>Date</th>\n",
       "      <th>Balancing Authority Code</th>\n",
       "      <th>Balancing Authority</th>\n",
       "      <th>Measurement Code</th>\n",
       "      <th>Measurement</th>\n",
       "      <th>MWh</th>\n",
       "    </tr>\n",
       "  </thead>\n",
       "  <tbody>\n",
       "    <tr>\n",
       "      <th>0</th>\n",
       "      <td>2018-07-01</td>\n",
       "      <td>SCEG</td>\n",
       "      <td>Dominion Energy South Carolina, Inc.</td>\n",
       "      <td>D</td>\n",
       "      <td>Demand</td>\n",
       "      <td>80401</td>\n",
       "    </tr>\n",
       "    <tr>\n",
       "      <th>1</th>\n",
       "      <td>2018-07-01</td>\n",
       "      <td>SCEG</td>\n",
       "      <td>Dominion Energy South Carolina, Inc.</td>\n",
       "      <td>NG</td>\n",
       "      <td>Net Generation</td>\n",
       "      <td>89228</td>\n",
       "    </tr>\n",
       "    <tr>\n",
       "      <th>2</th>\n",
       "      <td>2018-07-01</td>\n",
       "      <td>SCEG</td>\n",
       "      <td>Dominion Energy South Carolina, Inc.</td>\n",
       "      <td>NUC</td>\n",
       "      <td>Nuclear</td>\n",
       "      <td>23596</td>\n",
       "    </tr>\n",
       "    <tr>\n",
       "      <th>3</th>\n",
       "      <td>2018-07-01</td>\n",
       "      <td>SCEG</td>\n",
       "      <td>Dominion Energy South Carolina, Inc.</td>\n",
       "      <td>SUN</td>\n",
       "      <td>Solar</td>\n",
       "      <td>2153</td>\n",
       "    </tr>\n",
       "    <tr>\n",
       "      <th>4</th>\n",
       "      <td>2018-07-01</td>\n",
       "      <td>SCEG</td>\n",
       "      <td>Dominion Energy South Carolina, Inc.</td>\n",
       "      <td>WAT</td>\n",
       "      <td>Hydro</td>\n",
       "      <td>1032</td>\n",
       "    </tr>\n",
       "    <tr>\n",
       "      <th>...</th>\n",
       "      <td>...</td>\n",
       "      <td>...</td>\n",
       "      <td>...</td>\n",
       "      <td>...</td>\n",
       "      <td>...</td>\n",
       "      <td>...</td>\n",
       "    </tr>\n",
       "    <tr>\n",
       "      <th>34784</th>\n",
       "      <td>2023-07-01</td>\n",
       "      <td>CPLE</td>\n",
       "      <td>Duke Energy Progress East</td>\n",
       "      <td>WAT</td>\n",
       "      <td>Hydro</td>\n",
       "      <td>729</td>\n",
       "    </tr>\n",
       "    <tr>\n",
       "      <th>34785</th>\n",
       "      <td>2023-07-01</td>\n",
       "      <td>SC</td>\n",
       "      <td>South Carolina Public Service Authority</td>\n",
       "      <td>D</td>\n",
       "      <td>Demand</td>\n",
       "      <td>86433</td>\n",
       "    </tr>\n",
       "    <tr>\n",
       "      <th>34786</th>\n",
       "      <td>2023-07-01</td>\n",
       "      <td>SC</td>\n",
       "      <td>South Carolina Public Service Authority</td>\n",
       "      <td>NG</td>\n",
       "      <td>Net Generation</td>\n",
       "      <td>68687</td>\n",
       "    </tr>\n",
       "    <tr>\n",
       "      <th>34787</th>\n",
       "      <td>2023-07-01</td>\n",
       "      <td>SC</td>\n",
       "      <td>South Carolina Public Service Authority</td>\n",
       "      <td>SUN</td>\n",
       "      <td>Solar</td>\n",
       "      <td>1351</td>\n",
       "    </tr>\n",
       "    <tr>\n",
       "      <th>34788</th>\n",
       "      <td>2023-07-01</td>\n",
       "      <td>SC</td>\n",
       "      <td>South Carolina Public Service Authority</td>\n",
       "      <td>WAT</td>\n",
       "      <td>Hydro</td>\n",
       "      <td>1212</td>\n",
       "    </tr>\n",
       "  </tbody>\n",
       "</table>\n",
       "<p>34789 rows × 6 columns</p>\n",
       "</div>"
      ],
      "text/plain": [
       "            Date Balancing Authority Code  \\\n",
       "0     2018-07-01                     SCEG   \n",
       "1     2018-07-01                     SCEG   \n",
       "2     2018-07-01                     SCEG   \n",
       "3     2018-07-01                     SCEG   \n",
       "4     2018-07-01                     SCEG   \n",
       "...          ...                      ...   \n",
       "34784 2023-07-01                     CPLE   \n",
       "34785 2023-07-01                       SC   \n",
       "34786 2023-07-01                       SC   \n",
       "34787 2023-07-01                       SC   \n",
       "34788 2023-07-01                       SC   \n",
       "\n",
       "                           Balancing Authority Measurement Code  \\\n",
       "0         Dominion Energy South Carolina, Inc.                D   \n",
       "1         Dominion Energy South Carolina, Inc.               NG   \n",
       "2         Dominion Energy South Carolina, Inc.              NUC   \n",
       "3         Dominion Energy South Carolina, Inc.              SUN   \n",
       "4         Dominion Energy South Carolina, Inc.              WAT   \n",
       "...                                        ...              ...   \n",
       "34784                Duke Energy Progress East              WAT   \n",
       "34785  South Carolina Public Service Authority                D   \n",
       "34786  South Carolina Public Service Authority               NG   \n",
       "34787  South Carolina Public Service Authority              SUN   \n",
       "34788  South Carolina Public Service Authority              WAT   \n",
       "\n",
       "          Measurement    MWh  \n",
       "0              Demand  80401  \n",
       "1      Net Generation  89228  \n",
       "2             Nuclear  23596  \n",
       "3               Solar   2153  \n",
       "4               Hydro   1032  \n",
       "...               ...    ...  \n",
       "34784           Hydro    729  \n",
       "34785          Demand  86433  \n",
       "34786  Net Generation  68687  \n",
       "34787           Solar   1351  \n",
       "34788           Hydro   1212  \n",
       "\n",
       "[34789 rows x 6 columns]"
      ]
     },
     "execution_count": 7,
     "metadata": {},
     "output_type": "execute_result"
    }
   ],
   "source": [
    "energy_by_BA"
   ]
  },
  {
   "cell_type": "markdown",
   "id": "1420fd10",
   "metadata": {},
   "source": [
    "# Final Data Frame (by Balancing Authority)"
   ]
  },
  {
   "cell_type": "code",
   "execution_count": 8,
   "id": "d87ecf85",
   "metadata": {},
   "outputs": [
    {
     "name": "stdout",
     "output_type": "stream",
     "text": [
      "Stored 'energy_by_BA' (DataFrame)\n"
     ]
    }
   ],
   "source": [
    "%store energy_by_BA"
   ]
  },
  {
   "cell_type": "markdown",
   "id": "aada422b",
   "metadata": {},
   "source": [
    "# Aggregating MWh"
   ]
  },
  {
   "cell_type": "code",
   "execution_count": 9,
   "id": "581bbe0e",
   "metadata": {},
   "outputs": [],
   "source": [
    "energy_SC = energy_by_BA.groupby(['Date', 'Measurement Code', 'Measurement'], as_index=False)['MWh'].sum()"
   ]
  },
  {
   "cell_type": "code",
   "execution_count": 10,
   "id": "84e4d8ec",
   "metadata": {},
   "outputs": [
    {
     "data": {
      "text/html": [
       "<div>\n",
       "<style scoped>\n",
       "    .dataframe tbody tr th:only-of-type {\n",
       "        vertical-align: middle;\n",
       "    }\n",
       "\n",
       "    .dataframe tbody tr th {\n",
       "        vertical-align: top;\n",
       "    }\n",
       "\n",
       "    .dataframe thead th {\n",
       "        text-align: right;\n",
       "    }\n",
       "</style>\n",
       "<table border=\"1\" class=\"dataframe\">\n",
       "  <thead>\n",
       "    <tr style=\"text-align: right;\">\n",
       "      <th></th>\n",
       "      <th>Date</th>\n",
       "      <th>Measurement Code</th>\n",
       "      <th>Measurement</th>\n",
       "      <th>MWh</th>\n",
       "    </tr>\n",
       "  </thead>\n",
       "  <tbody>\n",
       "    <tr>\n",
       "      <th>0</th>\n",
       "      <td>2018-07-01</td>\n",
       "      <td>D</td>\n",
       "      <td>Demand</td>\n",
       "      <td>708190</td>\n",
       "    </tr>\n",
       "    <tr>\n",
       "      <th>1</th>\n",
       "      <td>2018-07-01</td>\n",
       "      <td>NG</td>\n",
       "      <td>Net Generation</td>\n",
       "      <td>705031</td>\n",
       "    </tr>\n",
       "    <tr>\n",
       "      <th>2</th>\n",
       "      <td>2018-07-01</td>\n",
       "      <td>NUC</td>\n",
       "      <td>Nuclear</td>\n",
       "      <td>277756</td>\n",
       "    </tr>\n",
       "    <tr>\n",
       "      <th>3</th>\n",
       "      <td>2018-07-01</td>\n",
       "      <td>SUN</td>\n",
       "      <td>Solar</td>\n",
       "      <td>16719</td>\n",
       "    </tr>\n",
       "    <tr>\n",
       "      <th>4</th>\n",
       "      <td>2018-07-01</td>\n",
       "      <td>WAT</td>\n",
       "      <td>Hydro</td>\n",
       "      <td>6187</td>\n",
       "    </tr>\n",
       "    <tr>\n",
       "      <th>...</th>\n",
       "      <td>...</td>\n",
       "      <td>...</td>\n",
       "      <td>...</td>\n",
       "      <td>...</td>\n",
       "    </tr>\n",
       "    <tr>\n",
       "      <th>9130</th>\n",
       "      <td>2023-07-01</td>\n",
       "      <td>D</td>\n",
       "      <td>Demand</td>\n",
       "      <td>683781</td>\n",
       "    </tr>\n",
       "    <tr>\n",
       "      <th>9131</th>\n",
       "      <td>2023-07-01</td>\n",
       "      <td>NG</td>\n",
       "      <td>Net Generation</td>\n",
       "      <td>686368</td>\n",
       "    </tr>\n",
       "    <tr>\n",
       "      <th>9132</th>\n",
       "      <td>2023-07-01</td>\n",
       "      <td>NUC</td>\n",
       "      <td>Nuclear</td>\n",
       "      <td>285400</td>\n",
       "    </tr>\n",
       "    <tr>\n",
       "      <th>9133</th>\n",
       "      <td>2023-07-01</td>\n",
       "      <td>SUN</td>\n",
       "      <td>Solar</td>\n",
       "      <td>34890</td>\n",
       "    </tr>\n",
       "    <tr>\n",
       "      <th>9134</th>\n",
       "      <td>2023-07-01</td>\n",
       "      <td>WAT</td>\n",
       "      <td>Hydro</td>\n",
       "      <td>8100</td>\n",
       "    </tr>\n",
       "  </tbody>\n",
       "</table>\n",
       "<p>9135 rows × 4 columns</p>\n",
       "</div>"
      ],
      "text/plain": [
       "           Date Measurement Code     Measurement     MWh\n",
       "0    2018-07-01                D          Demand  708190\n",
       "1    2018-07-01               NG  Net Generation  705031\n",
       "2    2018-07-01              NUC         Nuclear  277756\n",
       "3    2018-07-01              SUN           Solar   16719\n",
       "4    2018-07-01              WAT           Hydro    6187\n",
       "...         ...              ...             ...     ...\n",
       "9130 2023-07-01                D          Demand  683781\n",
       "9131 2023-07-01               NG  Net Generation  686368\n",
       "9132 2023-07-01              NUC         Nuclear  285400\n",
       "9133 2023-07-01              SUN           Solar   34890\n",
       "9134 2023-07-01              WAT           Hydro    8100\n",
       "\n",
       "[9135 rows x 4 columns]"
      ]
     },
     "execution_count": 10,
     "metadata": {},
     "output_type": "execute_result"
    }
   ],
   "source": [
    "energy_SC"
   ]
  },
  {
   "cell_type": "markdown",
   "id": "cff96569",
   "metadata": {},
   "source": [
    "# Final Data Frame (State Total)"
   ]
  },
  {
   "cell_type": "code",
   "execution_count": 12,
   "id": "32380955",
   "metadata": {},
   "outputs": [
    {
     "name": "stdout",
     "output_type": "stream",
     "text": [
      "Stored 'energy_SC' (DataFrame)\n"
     ]
    }
   ],
   "source": [
    "%store energy_SC"
   ]
  }
 ],
 "metadata": {
  "kernelspec": {
   "display_name": "Python 3 (ipykernel)",
   "language": "python",
   "name": "python3"
  },
  "language_info": {
   "codemirror_mode": {
    "name": "ipython",
    "version": 3
   },
   "file_extension": ".py",
   "mimetype": "text/x-python",
   "name": "python",
   "nbconvert_exporter": "python",
   "pygments_lexer": "ipython3",
   "version": "3.11.4"
  }
 },
 "nbformat": 4,
 "nbformat_minor": 5
}
