{
 "cells": [
  {
   "cell_type": "markdown",
   "id": "67267ecd",
   "metadata": {},
   "source": [
    "# Abstract"
   ]
  },
  {
   "cell_type": "markdown",
   "id": "4c3b5cd7",
   "metadata": {},
   "source": [
    "National Oceanic and Atmospheric Administration API calls to access coordinates of all South Carolina weather stations. "
   ]
  },
  {
   "cell_type": "code",
   "execution_count": 1,
   "id": "839f413e",
   "metadata": {},
   "outputs": [],
   "source": [
    "import requests \n",
    "import pandas as pd "
   ]
  },
  {
   "cell_type": "code",
   "execution_count": 1,
   "id": "f36c9c98",
   "metadata": {},
   "outputs": [],
   "source": [
    "%store -r noaa_api"
   ]
  },
  {
   "cell_type": "markdown",
   "id": "233c17a2",
   "metadata": {},
   "source": [
    "# API Calls: South Carolina Weather Stations"
   ]
  },
  {
   "cell_type": "markdown",
   "id": "4eb384d4",
   "metadata": {},
   "source": [
    "### DF 1 (Rows 1 - 1,000) (Offset = 0)"
   ]
  },
  {
   "cell_type": "code",
   "execution_count": 2,
   "id": "b817499a",
   "metadata": {},
   "outputs": [],
   "source": [
    "url = \"https://www.ncei.noaa.gov/cdo-web/api/v2/stations\"\n",
    "api_key = noaa_api\n",
    "headers = {\"token\": api_key}"
   ]
  },
  {
   "cell_type": "code",
   "execution_count": 3,
   "id": "e8816708",
   "metadata": {},
   "outputs": [],
   "source": [
    "params = {\n",
    "    \"datasetid\": \"GHCND\",\n",
    "    \"locationid\": \"FIPS:45\",\n",
    "    \"limit\": 1000\n",
    "}"
   ]
  },
  {
   "cell_type": "code",
   "execution_count": 4,
   "id": "70deca5a",
   "metadata": {},
   "outputs": [
    {
     "name": "stdout",
     "output_type": "stream",
     "text": [
      "<Response [200]>\n"
     ]
    }
   ],
   "source": [
    "response = requests.get(url, params = params, headers=headers)\n",
    "print(response)"
   ]
  },
  {
   "cell_type": "code",
   "execution_count": 5,
   "id": "06424729",
   "metadata": {},
   "outputs": [],
   "source": [
    "response_dict = response.json() #Convert response to dictionary\n",
    "\n",
    "list_data = response_dict[\"results\"] #Convert response dictionary to list of dictionaries containing raw data"
   ]
  },
  {
   "cell_type": "code",
   "execution_count": 6,
   "id": "2f123fdb",
   "metadata": {
    "collapsed": true
   },
   "outputs": [
    {
     "data": {
      "text/html": [
       "<div>\n",
       "<style scoped>\n",
       "    .dataframe tbody tr th:only-of-type {\n",
       "        vertical-align: middle;\n",
       "    }\n",
       "\n",
       "    .dataframe tbody tr th {\n",
       "        vertical-align: top;\n",
       "    }\n",
       "\n",
       "    .dataframe thead th {\n",
       "        text-align: right;\n",
       "    }\n",
       "</style>\n",
       "<table border=\"1\" class=\"dataframe\">\n",
       "  <thead>\n",
       "    <tr style=\"text-align: right;\">\n",
       "      <th></th>\n",
       "      <th>elevation</th>\n",
       "      <th>mindate</th>\n",
       "      <th>maxdate</th>\n",
       "      <th>latitude</th>\n",
       "      <th>name</th>\n",
       "      <th>datacoverage</th>\n",
       "      <th>id</th>\n",
       "      <th>elevationUnit</th>\n",
       "      <th>longitude</th>\n",
       "    </tr>\n",
       "  </thead>\n",
       "  <tbody>\n",
       "    <tr>\n",
       "      <th>0</th>\n",
       "      <td>173.4</td>\n",
       "      <td>2012-08-17</td>\n",
       "      <td>2023-06-21</td>\n",
       "      <td>34.136584</td>\n",
       "      <td>ABBEVILLE 3.2 SSW, SC US</td>\n",
       "      <td>0.4090</td>\n",
       "      <td>GHCND:US1SCAB0002</td>\n",
       "      <td>METERS</td>\n",
       "      <td>-82.396848</td>\n",
       "    </tr>\n",
       "    <tr>\n",
       "      <th>1</th>\n",
       "      <td>185.0</td>\n",
       "      <td>2012-11-01</td>\n",
       "      <td>2023-12-10</td>\n",
       "      <td>34.327864</td>\n",
       "      <td>DUE WEST 0.6 SE, SC US</td>\n",
       "      <td>0.9261</td>\n",
       "      <td>GHCND:US1SCAB0003</td>\n",
       "      <td>METERS</td>\n",
       "      <td>-82.380873</td>\n",
       "    </tr>\n",
       "    <tr>\n",
       "      <th>2</th>\n",
       "      <td>177.1</td>\n",
       "      <td>2012-12-28</td>\n",
       "      <td>2020-09-06</td>\n",
       "      <td>34.297169</td>\n",
       "      <td>DUE WEST 2.5 S, SC US</td>\n",
       "      <td>0.7388</td>\n",
       "      <td>GHCND:US1SCAB0004</td>\n",
       "      <td>METERS</td>\n",
       "      <td>-82.395325</td>\n",
       "    </tr>\n",
       "    <tr>\n",
       "      <th>3</th>\n",
       "      <td>189.3</td>\n",
       "      <td>2012-11-04</td>\n",
       "      <td>2017-06-20</td>\n",
       "      <td>34.293502</td>\n",
       "      <td>DUE WEST 5.6 WSW, SC US</td>\n",
       "      <td>0.3254</td>\n",
       "      <td>GHCND:US1SCAB0005</td>\n",
       "      <td>METERS</td>\n",
       "      <td>-82.473995</td>\n",
       "    </tr>\n",
       "    <tr>\n",
       "      <th>4</th>\n",
       "      <td>211.2</td>\n",
       "      <td>2013-01-18</td>\n",
       "      <td>2014-02-05</td>\n",
       "      <td>34.377300</td>\n",
       "      <td>HONEA PATH 5.0 SSW, SC US</td>\n",
       "      <td>0.3802</td>\n",
       "      <td>GHCND:US1SCAB0006</td>\n",
       "      <td>METERS</td>\n",
       "      <td>-82.416855</td>\n",
       "    </tr>\n",
       "    <tr>\n",
       "      <th>...</th>\n",
       "      <td>...</td>\n",
       "      <td>...</td>\n",
       "      <td>...</td>\n",
       "      <td>...</td>\n",
       "      <td>...</td>\n",
       "      <td>...</td>\n",
       "      <td>...</td>\n",
       "      <td>...</td>\n",
       "      <td>...</td>\n",
       "    </tr>\n",
       "    <tr>\n",
       "      <th>995</th>\n",
       "      <td>87.5</td>\n",
       "      <td>2011-10-29</td>\n",
       "      <td>2014-05-31</td>\n",
       "      <td>34.001048</td>\n",
       "      <td>COLUMBIA 0.9 E, SC US</td>\n",
       "      <td>0.1342</td>\n",
       "      <td>GHCND:US1SCRC0039</td>\n",
       "      <td>METERS</td>\n",
       "      <td>-81.019875</td>\n",
       "    </tr>\n",
       "    <tr>\n",
       "      <th>996</th>\n",
       "      <td>111.3</td>\n",
       "      <td>2012-03-22</td>\n",
       "      <td>2023-12-11</td>\n",
       "      <td>34.109165</td>\n",
       "      <td>IRMO 1.5 NW, SC US</td>\n",
       "      <td>0.9752</td>\n",
       "      <td>GHCND:US1SCRC0040</td>\n",
       "      <td>METERS</td>\n",
       "      <td>-81.206060</td>\n",
       "    </tr>\n",
       "    <tr>\n",
       "      <th>997</th>\n",
       "      <td>161.8</td>\n",
       "      <td>2012-03-15</td>\n",
       "      <td>2023-12-11</td>\n",
       "      <td>34.217101</td>\n",
       "      <td>BLYTHEWOOD 1.0 W, SC US</td>\n",
       "      <td>0.7461</td>\n",
       "      <td>GHCND:US1SCRC0041</td>\n",
       "      <td>METERS</td>\n",
       "      <td>-80.992857</td>\n",
       "    </tr>\n",
       "    <tr>\n",
       "      <th>998</th>\n",
       "      <td>64.3</td>\n",
       "      <td>2012-03-20</td>\n",
       "      <td>2023-08-31</td>\n",
       "      <td>33.998400</td>\n",
       "      <td>COLUMBIA 3.1 E, SC US</td>\n",
       "      <td>0.9603</td>\n",
       "      <td>GHCND:US1SCRC0042</td>\n",
       "      <td>METERS</td>\n",
       "      <td>-80.980400</td>\n",
       "    </tr>\n",
       "    <tr>\n",
       "      <th>999</th>\n",
       "      <td>124.7</td>\n",
       "      <td>2011-03-12</td>\n",
       "      <td>2019-06-04</td>\n",
       "      <td>34.130474</td>\n",
       "      <td>ELGIN 3.8 SW, SC US</td>\n",
       "      <td>0.1713</td>\n",
       "      <td>GHCND:US1SCRC0048</td>\n",
       "      <td>METERS</td>\n",
       "      <td>-80.838929</td>\n",
       "    </tr>\n",
       "  </tbody>\n",
       "</table>\n",
       "<p>1000 rows × 9 columns</p>\n",
       "</div>"
      ],
      "text/plain": [
       "     elevation     mindate     maxdate   latitude                       name  \\\n",
       "0        173.4  2012-08-17  2023-06-21  34.136584   ABBEVILLE 3.2 SSW, SC US   \n",
       "1        185.0  2012-11-01  2023-12-10  34.327864     DUE WEST 0.6 SE, SC US   \n",
       "2        177.1  2012-12-28  2020-09-06  34.297169      DUE WEST 2.5 S, SC US   \n",
       "3        189.3  2012-11-04  2017-06-20  34.293502    DUE WEST 5.6 WSW, SC US   \n",
       "4        211.2  2013-01-18  2014-02-05  34.377300  HONEA PATH 5.0 SSW, SC US   \n",
       "..         ...         ...         ...        ...                        ...   \n",
       "995       87.5  2011-10-29  2014-05-31  34.001048      COLUMBIA 0.9 E, SC US   \n",
       "996      111.3  2012-03-22  2023-12-11  34.109165         IRMO 1.5 NW, SC US   \n",
       "997      161.8  2012-03-15  2023-12-11  34.217101    BLYTHEWOOD 1.0 W, SC US   \n",
       "998       64.3  2012-03-20  2023-08-31  33.998400      COLUMBIA 3.1 E, SC US   \n",
       "999      124.7  2011-03-12  2019-06-04  34.130474        ELGIN 3.8 SW, SC US   \n",
       "\n",
       "     datacoverage                 id elevationUnit  longitude  \n",
       "0          0.4090  GHCND:US1SCAB0002        METERS -82.396848  \n",
       "1          0.9261  GHCND:US1SCAB0003        METERS -82.380873  \n",
       "2          0.7388  GHCND:US1SCAB0004        METERS -82.395325  \n",
       "3          0.3254  GHCND:US1SCAB0005        METERS -82.473995  \n",
       "4          0.3802  GHCND:US1SCAB0006        METERS -82.416855  \n",
       "..            ...                ...           ...        ...  \n",
       "995        0.1342  GHCND:US1SCRC0039        METERS -81.019875  \n",
       "996        0.9752  GHCND:US1SCRC0040        METERS -81.206060  \n",
       "997        0.7461  GHCND:US1SCRC0041        METERS -80.992857  \n",
       "998        0.9603  GHCND:US1SCRC0042        METERS -80.980400  \n",
       "999        0.1713  GHCND:US1SCRC0048        METERS -80.838929  \n",
       "\n",
       "[1000 rows x 9 columns]"
      ]
     },
     "execution_count": 6,
     "metadata": {},
     "output_type": "execute_result"
    }
   ],
   "source": [
    "stations_df1 = pd.DataFrame(list_data)\n",
    "stations_df1"
   ]
  },
  {
   "cell_type": "markdown",
   "id": "a9bcd56f",
   "metadata": {},
   "source": [
    "### DF 2 (Rows 1,000 - 1,439) (Offset = 1,000)"
   ]
  },
  {
   "cell_type": "code",
   "execution_count": 7,
   "id": "a54eb452",
   "metadata": {},
   "outputs": [],
   "source": [
    "params2 = {\n",
    "    \"datasetid\": \"GHCND\",\n",
    "    \"locationid\": \"FIPS:45\",\n",
    "    \"limit\": 1000,\n",
    "    \"offset\": 1000\n",
    "}"
   ]
  },
  {
   "cell_type": "code",
   "execution_count": 8,
   "id": "612b5933",
   "metadata": {},
   "outputs": [
    {
     "name": "stdout",
     "output_type": "stream",
     "text": [
      "<Response [200]>\n"
     ]
    }
   ],
   "source": [
    "response2 = requests.get(url, params = params2, headers=headers)\n",
    "print(response)"
   ]
  },
  {
   "cell_type": "code",
   "execution_count": 9,
   "id": "2773a28c",
   "metadata": {},
   "outputs": [],
   "source": [
    "response_dict2 = response2.json() #Convert response to dictionary\n",
    "\n",
    "list_data2 = response_dict2[\"results\"] #Convert response dictionary to list of dictionaries containing raw data"
   ]
  },
  {
   "cell_type": "code",
   "execution_count": 10,
   "id": "81b17a35",
   "metadata": {
    "collapsed": true
   },
   "outputs": [
    {
     "data": {
      "text/html": [
       "<div>\n",
       "<style scoped>\n",
       "    .dataframe tbody tr th:only-of-type {\n",
       "        vertical-align: middle;\n",
       "    }\n",
       "\n",
       "    .dataframe tbody tr th {\n",
       "        vertical-align: top;\n",
       "    }\n",
       "\n",
       "    .dataframe thead th {\n",
       "        text-align: right;\n",
       "    }\n",
       "</style>\n",
       "<table border=\"1\" class=\"dataframe\">\n",
       "  <thead>\n",
       "    <tr style=\"text-align: right;\">\n",
       "      <th></th>\n",
       "      <th>elevation</th>\n",
       "      <th>mindate</th>\n",
       "      <th>maxdate</th>\n",
       "      <th>latitude</th>\n",
       "      <th>name</th>\n",
       "      <th>datacoverage</th>\n",
       "      <th>id</th>\n",
       "      <th>elevationUnit</th>\n",
       "      <th>longitude</th>\n",
       "    </tr>\n",
       "  </thead>\n",
       "  <tbody>\n",
       "    <tr>\n",
       "      <th>0</th>\n",
       "      <td>124.7</td>\n",
       "      <td>2011-03-12</td>\n",
       "      <td>2019-06-04</td>\n",
       "      <td>34.130474</td>\n",
       "      <td>ELGIN 3.8 SW, SC US</td>\n",
       "      <td>0.1713</td>\n",
       "      <td>GHCND:US1SCRC0048</td>\n",
       "      <td>METERS</td>\n",
       "      <td>-80.838929</td>\n",
       "    </tr>\n",
       "    <tr>\n",
       "      <th>1</th>\n",
       "      <td>58.8</td>\n",
       "      <td>2013-04-12</td>\n",
       "      <td>2013-08-03</td>\n",
       "      <td>34.032301</td>\n",
       "      <td>FOREST ACRES 1.0 ENE, SC US</td>\n",
       "      <td>0.8772</td>\n",
       "      <td>GHCND:US1SCRC0049</td>\n",
       "      <td>METERS</td>\n",
       "      <td>-80.959979</td>\n",
       "    </tr>\n",
       "    <tr>\n",
       "      <th>2</th>\n",
       "      <td>114.0</td>\n",
       "      <td>2013-04-28</td>\n",
       "      <td>2023-12-11</td>\n",
       "      <td>34.235114</td>\n",
       "      <td>BLYTHEWOOD 3.8 ENE, SC US</td>\n",
       "      <td>0.8691</td>\n",
       "      <td>GHCND:US1SCRC0050</td>\n",
       "      <td>METERS</td>\n",
       "      <td>-80.912828</td>\n",
       "    </tr>\n",
       "    <tr>\n",
       "      <th>3</th>\n",
       "      <td>59.4</td>\n",
       "      <td>2013-05-20</td>\n",
       "      <td>2016-09-30</td>\n",
       "      <td>33.962254</td>\n",
       "      <td>COLUMBIA 6.6 SE, SC US</td>\n",
       "      <td>0.6593</td>\n",
       "      <td>GHCND:US1SCRC0051</td>\n",
       "      <td>METERS</td>\n",
       "      <td>-80.954637</td>\n",
       "    </tr>\n",
       "    <tr>\n",
       "      <th>4</th>\n",
       "      <td>137.8</td>\n",
       "      <td>2011-09-03</td>\n",
       "      <td>2016-09-02</td>\n",
       "      <td>34.143000</td>\n",
       "      <td>COLUMBIA 7.2 N, SC US</td>\n",
       "      <td>0.2063</td>\n",
       "      <td>GHCND:US1SCRC0054</td>\n",
       "      <td>METERS</td>\n",
       "      <td>-80.882000</td>\n",
       "    </tr>\n",
       "    <tr>\n",
       "      <th>...</th>\n",
       "      <td>...</td>\n",
       "      <td>...</td>\n",
       "      <td>...</td>\n",
       "      <td>...</td>\n",
       "      <td>...</td>\n",
       "      <td>...</td>\n",
       "      <td>...</td>\n",
       "      <td>...</td>\n",
       "      <td>...</td>\n",
       "    </tr>\n",
       "    <tr>\n",
       "      <th>434</th>\n",
       "      <td>244.1</td>\n",
       "      <td>1948-01-01</td>\n",
       "      <td>1962-10-14</td>\n",
       "      <td>34.916670</td>\n",
       "      <td>SPARTANBURG, SC US</td>\n",
       "      <td>1.0000</td>\n",
       "      <td>GHCND:USW00093804</td>\n",
       "      <td>METERS</td>\n",
       "      <td>-81.950000</td>\n",
       "    </tr>\n",
       "    <tr>\n",
       "      <th>435</th>\n",
       "      <td>11.3</td>\n",
       "      <td>1945-04-01</td>\n",
       "      <td>2023-12-08</td>\n",
       "      <td>32.483330</td>\n",
       "      <td>BEAUFORT MCAS, SC US</td>\n",
       "      <td>0.8054</td>\n",
       "      <td>GHCND:USW00093831</td>\n",
       "      <td>METERS</td>\n",
       "      <td>-80.716670</td>\n",
       "    </tr>\n",
       "    <tr>\n",
       "      <th>436</th>\n",
       "      <td>74.1</td>\n",
       "      <td>1945-03-01</td>\n",
       "      <td>1945-09-30</td>\n",
       "      <td>33.916670</td>\n",
       "      <td>COLUMBIA CONGAREE FIELD MCAF, SC US</td>\n",
       "      <td>0.9953</td>\n",
       "      <td>GHCND:USW00093833</td>\n",
       "      <td>METERS</td>\n",
       "      <td>-80.800000</td>\n",
       "    </tr>\n",
       "    <tr>\n",
       "      <th>437</th>\n",
       "      <td>3.0</td>\n",
       "      <td>1945-04-01</td>\n",
       "      <td>1946-02-14</td>\n",
       "      <td>32.316670</td>\n",
       "      <td>PARRIS ISLAND MCAS, SC US</td>\n",
       "      <td>0.9938</td>\n",
       "      <td>GHCND:USW00093844</td>\n",
       "      <td>METERS</td>\n",
       "      <td>-80.683330</td>\n",
       "    </tr>\n",
       "    <tr>\n",
       "      <th>438</th>\n",
       "      <td>233.7</td>\n",
       "      <td>1948-08-01</td>\n",
       "      <td>2023-12-10</td>\n",
       "      <td>34.498000</td>\n",
       "      <td>ANDERSON REGIONAL AIRPORT, SC US</td>\n",
       "      <td>0.9953</td>\n",
       "      <td>GHCND:USW00093846</td>\n",
       "      <td>METERS</td>\n",
       "      <td>-82.709240</td>\n",
       "    </tr>\n",
       "  </tbody>\n",
       "</table>\n",
       "<p>439 rows × 9 columns</p>\n",
       "</div>"
      ],
      "text/plain": [
       "     elevation     mindate     maxdate   latitude  \\\n",
       "0        124.7  2011-03-12  2019-06-04  34.130474   \n",
       "1         58.8  2013-04-12  2013-08-03  34.032301   \n",
       "2        114.0  2013-04-28  2023-12-11  34.235114   \n",
       "3         59.4  2013-05-20  2016-09-30  33.962254   \n",
       "4        137.8  2011-09-03  2016-09-02  34.143000   \n",
       "..         ...         ...         ...        ...   \n",
       "434      244.1  1948-01-01  1962-10-14  34.916670   \n",
       "435       11.3  1945-04-01  2023-12-08  32.483330   \n",
       "436       74.1  1945-03-01  1945-09-30  33.916670   \n",
       "437        3.0  1945-04-01  1946-02-14  32.316670   \n",
       "438      233.7  1948-08-01  2023-12-10  34.498000   \n",
       "\n",
       "                                    name  datacoverage                 id  \\\n",
       "0                    ELGIN 3.8 SW, SC US        0.1713  GHCND:US1SCRC0048   \n",
       "1            FOREST ACRES 1.0 ENE, SC US        0.8772  GHCND:US1SCRC0049   \n",
       "2              BLYTHEWOOD 3.8 ENE, SC US        0.8691  GHCND:US1SCRC0050   \n",
       "3                 COLUMBIA 6.6 SE, SC US        0.6593  GHCND:US1SCRC0051   \n",
       "4                  COLUMBIA 7.2 N, SC US        0.2063  GHCND:US1SCRC0054   \n",
       "..                                   ...           ...                ...   \n",
       "434                   SPARTANBURG, SC US        1.0000  GHCND:USW00093804   \n",
       "435                 BEAUFORT MCAS, SC US        0.8054  GHCND:USW00093831   \n",
       "436  COLUMBIA CONGAREE FIELD MCAF, SC US        0.9953  GHCND:USW00093833   \n",
       "437            PARRIS ISLAND MCAS, SC US        0.9938  GHCND:USW00093844   \n",
       "438     ANDERSON REGIONAL AIRPORT, SC US        0.9953  GHCND:USW00093846   \n",
       "\n",
       "    elevationUnit  longitude  \n",
       "0          METERS -80.838929  \n",
       "1          METERS -80.959979  \n",
       "2          METERS -80.912828  \n",
       "3          METERS -80.954637  \n",
       "4          METERS -80.882000  \n",
       "..            ...        ...  \n",
       "434        METERS -81.950000  \n",
       "435        METERS -80.716670  \n",
       "436        METERS -80.800000  \n",
       "437        METERS -80.683330  \n",
       "438        METERS -82.709240  \n",
       "\n",
       "[439 rows x 9 columns]"
      ]
     },
     "execution_count": 10,
     "metadata": {},
     "output_type": "execute_result"
    }
   ],
   "source": [
    "stations_df2 = pd.DataFrame(list_data2)\n",
    "stations_df2"
   ]
  },
  {
   "cell_type": "markdown",
   "id": "48126028",
   "metadata": {},
   "source": [
    "# Editing Data Frames"
   ]
  },
  {
   "cell_type": "markdown",
   "id": "212c7df4",
   "metadata": {},
   "source": [
    "### Combinining Individual Data Frames"
   ]
  },
  {
   "cell_type": "code",
   "execution_count": 12,
   "id": "a08e25a3",
   "metadata": {},
   "outputs": [],
   "source": [
    "stations_df = pd.concat([stations_df1, stations_df2], axis = 0)"
   ]
  },
  {
   "cell_type": "markdown",
   "id": "9392b509",
   "metadata": {},
   "source": [
    "### Drop Duplicate Rows"
   ]
  },
  {
   "cell_type": "code",
   "execution_count": 14,
   "id": "4caeb5f2",
   "metadata": {},
   "outputs": [],
   "source": [
    "stations_df.drop_duplicates(inplace=True)"
   ]
  },
  {
   "cell_type": "markdown",
   "id": "6dac29d4",
   "metadata": {},
   "source": [
    "### Drop Columns"
   ]
  },
  {
   "cell_type": "code",
   "execution_count": 16,
   "id": "d417f99d",
   "metadata": {
    "collapsed": true
   },
   "outputs": [
    {
     "ename": "KeyError",
     "evalue": "\"['elevation', 'mindate', 'maxdate', 'datacoverage', 'elevationUnit'] not found in axis\"",
     "output_type": "error",
     "traceback": [
      "\u001b[0;31m---------------------------------------------------------------------------\u001b[0m",
      "\u001b[0;31mKeyError\u001b[0m                                  Traceback (most recent call last)",
      "Cell \u001b[0;32mIn[16], line 1\u001b[0m\n\u001b[0;32m----> 1\u001b[0m stations_df\u001b[38;5;241m.\u001b[39mdrop([\u001b[38;5;124m\"\u001b[39m\u001b[38;5;124melevation\u001b[39m\u001b[38;5;124m\"\u001b[39m, \u001b[38;5;124m\"\u001b[39m\u001b[38;5;124mmindate\u001b[39m\u001b[38;5;124m\"\u001b[39m, \u001b[38;5;124m\"\u001b[39m\u001b[38;5;124mmaxdate\u001b[39m\u001b[38;5;124m\"\u001b[39m, \u001b[38;5;124m\"\u001b[39m\u001b[38;5;124mdatacoverage\u001b[39m\u001b[38;5;124m\"\u001b[39m, \u001b[38;5;124m\"\u001b[39m\u001b[38;5;124melevationUnit\u001b[39m\u001b[38;5;124m\"\u001b[39m], axis \u001b[38;5;241m=\u001b[39m \u001b[38;5;241m1\u001b[39m, inplace \u001b[38;5;241m=\u001b[39m \u001b[38;5;28;01mTrue\u001b[39;00m)\n",
      "File \u001b[0;32m~/anaconda3/lib/python3.11/site-packages/pandas/util/_decorators.py:331\u001b[0m, in \u001b[0;36mdeprecate_nonkeyword_arguments.<locals>.decorate.<locals>.wrapper\u001b[0;34m(*args, **kwargs)\u001b[0m\n\u001b[1;32m    325\u001b[0m \u001b[38;5;28;01mif\u001b[39;00m \u001b[38;5;28mlen\u001b[39m(args) \u001b[38;5;241m>\u001b[39m num_allow_args:\n\u001b[1;32m    326\u001b[0m     warnings\u001b[38;5;241m.\u001b[39mwarn(\n\u001b[1;32m    327\u001b[0m         msg\u001b[38;5;241m.\u001b[39mformat(arguments\u001b[38;5;241m=\u001b[39m_format_argument_list(allow_args)),\n\u001b[1;32m    328\u001b[0m         \u001b[38;5;167;01mFutureWarning\u001b[39;00m,\n\u001b[1;32m    329\u001b[0m         stacklevel\u001b[38;5;241m=\u001b[39mfind_stack_level(),\n\u001b[1;32m    330\u001b[0m     )\n\u001b[0;32m--> 331\u001b[0m \u001b[38;5;28;01mreturn\u001b[39;00m func(\u001b[38;5;241m*\u001b[39margs, \u001b[38;5;241m*\u001b[39m\u001b[38;5;241m*\u001b[39mkwargs)\n",
      "File \u001b[0;32m~/anaconda3/lib/python3.11/site-packages/pandas/core/frame.py:5399\u001b[0m, in \u001b[0;36mDataFrame.drop\u001b[0;34m(self, labels, axis, index, columns, level, inplace, errors)\u001b[0m\n\u001b[1;32m   5251\u001b[0m \u001b[38;5;129m@deprecate_nonkeyword_arguments\u001b[39m(version\u001b[38;5;241m=\u001b[39m\u001b[38;5;28;01mNone\u001b[39;00m, allowed_args\u001b[38;5;241m=\u001b[39m[\u001b[38;5;124m\"\u001b[39m\u001b[38;5;124mself\u001b[39m\u001b[38;5;124m\"\u001b[39m, \u001b[38;5;124m\"\u001b[39m\u001b[38;5;124mlabels\u001b[39m\u001b[38;5;124m\"\u001b[39m])\n\u001b[1;32m   5252\u001b[0m \u001b[38;5;28;01mdef\u001b[39;00m \u001b[38;5;21mdrop\u001b[39m(  \u001b[38;5;66;03m# type: ignore[override]\u001b[39;00m\n\u001b[1;32m   5253\u001b[0m     \u001b[38;5;28mself\u001b[39m,\n\u001b[0;32m   (...)\u001b[0m\n\u001b[1;32m   5260\u001b[0m     errors: IgnoreRaise \u001b[38;5;241m=\u001b[39m \u001b[38;5;124m\"\u001b[39m\u001b[38;5;124mraise\u001b[39m\u001b[38;5;124m\"\u001b[39m,\n\u001b[1;32m   5261\u001b[0m ) \u001b[38;5;241m-\u001b[39m\u001b[38;5;241m>\u001b[39m DataFrame \u001b[38;5;241m|\u001b[39m \u001b[38;5;28;01mNone\u001b[39;00m:\n\u001b[1;32m   5262\u001b[0m \u001b[38;5;250m    \u001b[39m\u001b[38;5;124;03m\"\"\"\u001b[39;00m\n\u001b[1;32m   5263\u001b[0m \u001b[38;5;124;03m    Drop specified labels from rows or columns.\u001b[39;00m\n\u001b[1;32m   5264\u001b[0m \n\u001b[0;32m   (...)\u001b[0m\n\u001b[1;32m   5397\u001b[0m \u001b[38;5;124;03m            weight  1.0     0.8\u001b[39;00m\n\u001b[1;32m   5398\u001b[0m \u001b[38;5;124;03m    \"\"\"\u001b[39;00m\n\u001b[0;32m-> 5399\u001b[0m     \u001b[38;5;28;01mreturn\u001b[39;00m \u001b[38;5;28msuper\u001b[39m()\u001b[38;5;241m.\u001b[39mdrop(\n\u001b[1;32m   5400\u001b[0m         labels\u001b[38;5;241m=\u001b[39mlabels,\n\u001b[1;32m   5401\u001b[0m         axis\u001b[38;5;241m=\u001b[39maxis,\n\u001b[1;32m   5402\u001b[0m         index\u001b[38;5;241m=\u001b[39mindex,\n\u001b[1;32m   5403\u001b[0m         columns\u001b[38;5;241m=\u001b[39mcolumns,\n\u001b[1;32m   5404\u001b[0m         level\u001b[38;5;241m=\u001b[39mlevel,\n\u001b[1;32m   5405\u001b[0m         inplace\u001b[38;5;241m=\u001b[39minplace,\n\u001b[1;32m   5406\u001b[0m         errors\u001b[38;5;241m=\u001b[39merrors,\n\u001b[1;32m   5407\u001b[0m     )\n",
      "File \u001b[0;32m~/anaconda3/lib/python3.11/site-packages/pandas/util/_decorators.py:331\u001b[0m, in \u001b[0;36mdeprecate_nonkeyword_arguments.<locals>.decorate.<locals>.wrapper\u001b[0;34m(*args, **kwargs)\u001b[0m\n\u001b[1;32m    325\u001b[0m \u001b[38;5;28;01mif\u001b[39;00m \u001b[38;5;28mlen\u001b[39m(args) \u001b[38;5;241m>\u001b[39m num_allow_args:\n\u001b[1;32m    326\u001b[0m     warnings\u001b[38;5;241m.\u001b[39mwarn(\n\u001b[1;32m    327\u001b[0m         msg\u001b[38;5;241m.\u001b[39mformat(arguments\u001b[38;5;241m=\u001b[39m_format_argument_list(allow_args)),\n\u001b[1;32m    328\u001b[0m         \u001b[38;5;167;01mFutureWarning\u001b[39;00m,\n\u001b[1;32m    329\u001b[0m         stacklevel\u001b[38;5;241m=\u001b[39mfind_stack_level(),\n\u001b[1;32m    330\u001b[0m     )\n\u001b[0;32m--> 331\u001b[0m \u001b[38;5;28;01mreturn\u001b[39;00m func(\u001b[38;5;241m*\u001b[39margs, \u001b[38;5;241m*\u001b[39m\u001b[38;5;241m*\u001b[39mkwargs)\n",
      "File \u001b[0;32m~/anaconda3/lib/python3.11/site-packages/pandas/core/generic.py:4505\u001b[0m, in \u001b[0;36mNDFrame.drop\u001b[0;34m(self, labels, axis, index, columns, level, inplace, errors)\u001b[0m\n\u001b[1;32m   4503\u001b[0m \u001b[38;5;28;01mfor\u001b[39;00m axis, labels \u001b[38;5;129;01min\u001b[39;00m axes\u001b[38;5;241m.\u001b[39mitems():\n\u001b[1;32m   4504\u001b[0m     \u001b[38;5;28;01mif\u001b[39;00m labels \u001b[38;5;129;01mis\u001b[39;00m \u001b[38;5;129;01mnot\u001b[39;00m \u001b[38;5;28;01mNone\u001b[39;00m:\n\u001b[0;32m-> 4505\u001b[0m         obj \u001b[38;5;241m=\u001b[39m obj\u001b[38;5;241m.\u001b[39m_drop_axis(labels, axis, level\u001b[38;5;241m=\u001b[39mlevel, errors\u001b[38;5;241m=\u001b[39merrors)\n\u001b[1;32m   4507\u001b[0m \u001b[38;5;28;01mif\u001b[39;00m inplace:\n\u001b[1;32m   4508\u001b[0m     \u001b[38;5;28mself\u001b[39m\u001b[38;5;241m.\u001b[39m_update_inplace(obj)\n",
      "File \u001b[0;32m~/anaconda3/lib/python3.11/site-packages/pandas/core/generic.py:4546\u001b[0m, in \u001b[0;36mNDFrame._drop_axis\u001b[0;34m(self, labels, axis, level, errors, only_slice)\u001b[0m\n\u001b[1;32m   4544\u001b[0m         new_axis \u001b[38;5;241m=\u001b[39m axis\u001b[38;5;241m.\u001b[39mdrop(labels, level\u001b[38;5;241m=\u001b[39mlevel, errors\u001b[38;5;241m=\u001b[39merrors)\n\u001b[1;32m   4545\u001b[0m     \u001b[38;5;28;01melse\u001b[39;00m:\n\u001b[0;32m-> 4546\u001b[0m         new_axis \u001b[38;5;241m=\u001b[39m axis\u001b[38;5;241m.\u001b[39mdrop(labels, errors\u001b[38;5;241m=\u001b[39merrors)\n\u001b[1;32m   4547\u001b[0m     indexer \u001b[38;5;241m=\u001b[39m axis\u001b[38;5;241m.\u001b[39mget_indexer(new_axis)\n\u001b[1;32m   4549\u001b[0m \u001b[38;5;66;03m# Case for non-unique axis\u001b[39;00m\n\u001b[1;32m   4550\u001b[0m \u001b[38;5;28;01melse\u001b[39;00m:\n",
      "File \u001b[0;32m~/anaconda3/lib/python3.11/site-packages/pandas/core/indexes/base.py:6934\u001b[0m, in \u001b[0;36mIndex.drop\u001b[0;34m(self, labels, errors)\u001b[0m\n\u001b[1;32m   6932\u001b[0m \u001b[38;5;28;01mif\u001b[39;00m mask\u001b[38;5;241m.\u001b[39many():\n\u001b[1;32m   6933\u001b[0m     \u001b[38;5;28;01mif\u001b[39;00m errors \u001b[38;5;241m!=\u001b[39m \u001b[38;5;124m\"\u001b[39m\u001b[38;5;124mignore\u001b[39m\u001b[38;5;124m\"\u001b[39m:\n\u001b[0;32m-> 6934\u001b[0m         \u001b[38;5;28;01mraise\u001b[39;00m \u001b[38;5;167;01mKeyError\u001b[39;00m(\u001b[38;5;124mf\u001b[39m\u001b[38;5;124m\"\u001b[39m\u001b[38;5;132;01m{\u001b[39;00m\u001b[38;5;28mlist\u001b[39m(labels[mask])\u001b[38;5;132;01m}\u001b[39;00m\u001b[38;5;124m not found in axis\u001b[39m\u001b[38;5;124m\"\u001b[39m)\n\u001b[1;32m   6935\u001b[0m     indexer \u001b[38;5;241m=\u001b[39m indexer[\u001b[38;5;241m~\u001b[39mmask]\n\u001b[1;32m   6936\u001b[0m \u001b[38;5;28;01mreturn\u001b[39;00m \u001b[38;5;28mself\u001b[39m\u001b[38;5;241m.\u001b[39mdelete(indexer)\n",
      "\u001b[0;31mKeyError\u001b[0m: \"['elevation', 'mindate', 'maxdate', 'datacoverage', 'elevationUnit'] not found in axis\""
     ]
    }
   ],
   "source": [
    "stations_df.drop([\"elevation\", \"mindate\", \"maxdate\", \"datacoverage\", \"elevationUnit\"], axis = 1, inplace = True)"
   ]
  },
  {
   "cell_type": "markdown",
   "id": "b6711111",
   "metadata": {},
   "source": [
    "### Renaming Columns"
   ]
  },
  {
   "cell_type": "code",
   "execution_count": 17,
   "id": "e03176ed",
   "metadata": {},
   "outputs": [],
   "source": [
    "newColNames = {\n",
    "    'name': 'Location',\n",
    "    'id': 'Station ID',\n",
    "    'latitude': 'Latitude',\n",
    "    'longitude': 'Longitude'\n",
    "}"
   ]
  },
  {
   "cell_type": "code",
   "execution_count": 18,
   "id": "b55474b0",
   "metadata": {},
   "outputs": [
    {
     "data": {
      "text/html": [
       "<div>\n",
       "<style scoped>\n",
       "    .dataframe tbody tr th:only-of-type {\n",
       "        vertical-align: middle;\n",
       "    }\n",
       "\n",
       "    .dataframe tbody tr th {\n",
       "        vertical-align: top;\n",
       "    }\n",
       "\n",
       "    .dataframe thead th {\n",
       "        text-align: right;\n",
       "    }\n",
       "</style>\n",
       "<table border=\"1\" class=\"dataframe\">\n",
       "  <thead>\n",
       "    <tr style=\"text-align: right;\">\n",
       "      <th></th>\n",
       "      <th>Latitude</th>\n",
       "      <th>Longitude</th>\n",
       "      <th>Location</th>\n",
       "      <th>Station ID</th>\n",
       "    </tr>\n",
       "  </thead>\n",
       "  <tbody>\n",
       "    <tr>\n",
       "      <th>0</th>\n",
       "      <td>34.136584</td>\n",
       "      <td>-82.396848</td>\n",
       "      <td>ABBEVILLE 3.2 SSW, SC US</td>\n",
       "      <td>GHCND:US1SCAB0002</td>\n",
       "    </tr>\n",
       "    <tr>\n",
       "      <th>1</th>\n",
       "      <td>34.327864</td>\n",
       "      <td>-82.380873</td>\n",
       "      <td>DUE WEST 0.6 SE, SC US</td>\n",
       "      <td>GHCND:US1SCAB0003</td>\n",
       "    </tr>\n",
       "    <tr>\n",
       "      <th>2</th>\n",
       "      <td>34.297169</td>\n",
       "      <td>-82.395325</td>\n",
       "      <td>DUE WEST 2.5 S, SC US</td>\n",
       "      <td>GHCND:US1SCAB0004</td>\n",
       "    </tr>\n",
       "    <tr>\n",
       "      <th>3</th>\n",
       "      <td>34.293502</td>\n",
       "      <td>-82.473995</td>\n",
       "      <td>DUE WEST 5.6 WSW, SC US</td>\n",
       "      <td>GHCND:US1SCAB0005</td>\n",
       "    </tr>\n",
       "    <tr>\n",
       "      <th>4</th>\n",
       "      <td>34.377300</td>\n",
       "      <td>-82.416855</td>\n",
       "      <td>HONEA PATH 5.0 SSW, SC US</td>\n",
       "      <td>GHCND:US1SCAB0006</td>\n",
       "    </tr>\n",
       "    <tr>\n",
       "      <th>...</th>\n",
       "      <td>...</td>\n",
       "      <td>...</td>\n",
       "      <td>...</td>\n",
       "      <td>...</td>\n",
       "    </tr>\n",
       "    <tr>\n",
       "      <th>434</th>\n",
       "      <td>34.916670</td>\n",
       "      <td>-81.950000</td>\n",
       "      <td>SPARTANBURG, SC US</td>\n",
       "      <td>GHCND:USW00093804</td>\n",
       "    </tr>\n",
       "    <tr>\n",
       "      <th>435</th>\n",
       "      <td>32.483330</td>\n",
       "      <td>-80.716670</td>\n",
       "      <td>BEAUFORT MCAS, SC US</td>\n",
       "      <td>GHCND:USW00093831</td>\n",
       "    </tr>\n",
       "    <tr>\n",
       "      <th>436</th>\n",
       "      <td>33.916670</td>\n",
       "      <td>-80.800000</td>\n",
       "      <td>COLUMBIA CONGAREE FIELD MCAF, SC US</td>\n",
       "      <td>GHCND:USW00093833</td>\n",
       "    </tr>\n",
       "    <tr>\n",
       "      <th>437</th>\n",
       "      <td>32.316670</td>\n",
       "      <td>-80.683330</td>\n",
       "      <td>PARRIS ISLAND MCAS, SC US</td>\n",
       "      <td>GHCND:USW00093844</td>\n",
       "    </tr>\n",
       "    <tr>\n",
       "      <th>438</th>\n",
       "      <td>34.498000</td>\n",
       "      <td>-82.709240</td>\n",
       "      <td>ANDERSON REGIONAL AIRPORT, SC US</td>\n",
       "      <td>GHCND:USW00093846</td>\n",
       "    </tr>\n",
       "  </tbody>\n",
       "</table>\n",
       "<p>1438 rows × 4 columns</p>\n",
       "</div>"
      ],
      "text/plain": [
       "      Latitude  Longitude                             Location  \\\n",
       "0    34.136584 -82.396848             ABBEVILLE 3.2 SSW, SC US   \n",
       "1    34.327864 -82.380873               DUE WEST 0.6 SE, SC US   \n",
       "2    34.297169 -82.395325                DUE WEST 2.5 S, SC US   \n",
       "3    34.293502 -82.473995              DUE WEST 5.6 WSW, SC US   \n",
       "4    34.377300 -82.416855            HONEA PATH 5.0 SSW, SC US   \n",
       "..         ...        ...                                  ...   \n",
       "434  34.916670 -81.950000                   SPARTANBURG, SC US   \n",
       "435  32.483330 -80.716670                 BEAUFORT MCAS, SC US   \n",
       "436  33.916670 -80.800000  COLUMBIA CONGAREE FIELD MCAF, SC US   \n",
       "437  32.316670 -80.683330            PARRIS ISLAND MCAS, SC US   \n",
       "438  34.498000 -82.709240     ANDERSON REGIONAL AIRPORT, SC US   \n",
       "\n",
       "            Station ID  \n",
       "0    GHCND:US1SCAB0002  \n",
       "1    GHCND:US1SCAB0003  \n",
       "2    GHCND:US1SCAB0004  \n",
       "3    GHCND:US1SCAB0005  \n",
       "4    GHCND:US1SCAB0006  \n",
       "..                 ...  \n",
       "434  GHCND:USW00093804  \n",
       "435  GHCND:USW00093831  \n",
       "436  GHCND:USW00093833  \n",
       "437  GHCND:USW00093844  \n",
       "438  GHCND:USW00093846  \n",
       "\n",
       "[1438 rows x 4 columns]"
      ]
     },
     "execution_count": 18,
     "metadata": {},
     "output_type": "execute_result"
    }
   ],
   "source": [
    "stations_df.rename(columns = newColNames, inplace = True)\n",
    "stations_df = stations_df[[\"Latitude\", \"Longitude\", \"Location\", \"Station ID\"]]\n",
    "stations_df"
   ]
  },
  {
   "cell_type": "markdown",
   "id": "de8ed543",
   "metadata": {},
   "source": [
    "# Final Data Frame"
   ]
  },
  {
   "cell_type": "code",
   "execution_count": 19,
   "id": "c4134c77",
   "metadata": {},
   "outputs": [
    {
     "name": "stdout",
     "output_type": "stream",
     "text": [
      "Stored 'stations_df' (DataFrame)\n"
     ]
    }
   ],
   "source": [
    "%store stations_df"
   ]
  }
 ],
 "metadata": {
  "kernelspec": {
   "display_name": "Python 3 (ipykernel)",
   "language": "python",
   "name": "python3"
  },
  "language_info": {
   "codemirror_mode": {
    "name": "ipython",
    "version": 3
   },
   "file_extension": ".py",
   "mimetype": "text/x-python",
   "name": "python",
   "nbconvert_exporter": "python",
   "pygments_lexer": "ipython3",
   "version": "3.11.4"
  }
 },
 "nbformat": 4,
 "nbformat_minor": 5
}
